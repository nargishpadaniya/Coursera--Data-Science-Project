{
    "cells": [
        {
            "cell_type": "markdown",
            "metadata": {
                "collapsed": true
            },
            "source": "# Data"
        },
        {
            "cell_type": "markdown",
            "metadata": {},
            "source": "### We will be analyzing New York city.\n"
        },
        {
            "cell_type": "markdown",
            "metadata": {},
            "source": "\n### In this we will require the following datasets"
        },
        {
            "cell_type": "markdown",
            "metadata": {},
            "source": "1 : Neighborhood has a total of 5 boroughs and 306 neighborhoods. In order to segement the neighborhoods and explore them, we will essentially need a dataset that contains the 5 boroughs and the neighborhoods that exist in each borough as well as the the latitude and logitude coordinates of each neighborhood.\n\nThis dataset exists for free on the web. Link to the dataset is : https://geo.nyu.edu/catalog/nyu_2451_34572"
        },
        {
            "cell_type": "markdown",
            "metadata": {},
            "source": "2 : Second data which will be used is the DOHMH Farmers Markets and Food Boxes dataset. \nA farmers' market is often defined as a public site used by two or more local or regional producers for the direct sale of farm products to consumers. In addition to fresh fruits and vegetables, markets may sell dairy products, fish, meat, baked goods, and other minimally processed foods.  \n\nIn this we will be using the data of Farmers Markets.  \nhttps://data.cityofnewyork.us/dataset/DOHMH-Farmers-Markets-and-Food-Boxes/8vwk-6iz2\n\n"
        },
        {
            "cell_type": "markdown",
            "metadata": {},
            "source": "3 : For the below analysis we will get data from wikipedia as given below :\n\n1. New York Population\n2. New York City Demographics\n3. Cuisine of New York city  \nhttps://en.wikipedia.org/wiki/New_York_City  \nhttps://en.wikipedia.org/wiki/Economy_of_New_York_City  \nhttps://en.wikipedia.org/wiki/Portal:New_York_City  \nhttps://en.wikipedia.org/wiki/Cuisine_of_New_York_City  \nhttps://en.wikipedia.org/wiki/List_of_Michelin_starred_restaurants_in_New_York_City\n\n"
        },
        {
            "cell_type": "markdown",
            "metadata": {},
            "source": "4 : Newyork city geographical coordinates data will be utilized as input for the Foursquare API, that will be leveraged to provision venues information for each neighborhood.We will use the Foursquare API to explore neighborhoods in New York City."
        },
        {
            "cell_type": "code",
            "execution_count": null,
            "metadata": {},
            "outputs": [],
            "source": ""
        }
    ],
    "metadata": {
        "kernelspec": {
            "display_name": "Python 3.6",
            "language": "python",
            "name": "python3"
        },
        "language_info": {
            "codemirror_mode": {
                "name": "ipython",
                "version": 3
            },
            "file_extension": ".py",
            "mimetype": "text/x-python",
            "name": "python",
            "nbconvert_exporter": "python",
            "pygments_lexer": "ipython3",
            "version": "3.6.9"
        }
    },
    "nbformat": 4,
    "nbformat_minor": 1
}