{
    "cells": [
        {
            "cell_type": "markdown",
            "metadata": {
                "collapsed": true
            },
            "source": "# The Battle of the Neighborhoods - Week 1                                                     "
        },
        {
            "cell_type": "markdown",
            "metadata": {},
            "source": "## Introduction"
        },
        {
            "cell_type": "markdown",
            "metadata": {},
            "source": "The City of New York, is the most populous city in the United States. It is diverse and is the financial capital of USA. It is multicultural. It provides lot of business oppourtunities and business friendly environment. It has attracted many different players into the market. It is a global hub of business and commerce. The city is a major center for banking and finance, retailing, world trade, transportation, tourism, real estate, new media, traditional media, advertising, legal services, accountancy, insurance, theater, fashion, and the arts in the United States.\n\nThis also means that the market is highly competitive. As it is highly developed city so cost of doing business is also one of the highest. Thus, any new business venture or expansion needs to be analysed carefully. The insights derived from analysis will give good understanding of the business environment which help in strategically targeting the market. This will help in reduction of risk. And the Return on Investment will be reasonable.\n\nSo there is a ABC company in New York who has many restruants in other cities of United States,has assigned me as Jr. Data Scientist to find a best locations in New York to open a new restruants and what cuisine people in that area prefer for better service.   "
        },
        {
            "cell_type": "markdown",
            "metadata": {},
            "source": "##  Business Problem"
        },
        {
            "cell_type": "markdown",
            "metadata": {},
            "source": "As the competition is high in the market it is very important to startegically plan. Various factors need to be studied inorder to decide on the Location such as :\n\n1. New York Population\n2. New York City Demographics\n3. Are there any Farmers Markets, Wholesale markets etc nearby so that the ingredients can be purchased fresh to maintain quality and cost?\n4. Are there any venues like Gyms, Entertainmnet zones, Parks etc nearby where floating population is high etc\n5. Who are the competitors in that location?\n6. Cuisine served / Menu of the competitors\n7. Segmentation of the Borough\nand so on..."
        },
        {
            "cell_type": "code",
            "execution_count": null,
            "metadata": {},
            "outputs": [],
            "source": ""
        }
    ],
    "metadata": {
        "kernelspec": {
            "display_name": "Python 3.6",
            "language": "python",
            "name": "python3"
        },
        "language_info": {
            "codemirror_mode": {
                "name": "ipython",
                "version": 3
            },
            "file_extension": ".py",
            "mimetype": "text/x-python",
            "name": "python",
            "nbconvert_exporter": "python",
            "pygments_lexer": "ipython3",
            "version": "3.6.9"
        }
    },
    "nbformat": 4,
    "nbformat_minor": 1
}